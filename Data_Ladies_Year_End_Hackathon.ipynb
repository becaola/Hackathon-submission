{
 "cells": [
  {
   "cell_type": "code",
   "execution_count": 1,
   "metadata": {
    "ExecuteTime": {
     "end_time": "2022-01-12T19:41:42.833777Z",
     "start_time": "2022-01-12T19:41:42.826173Z"
    }
   },
   "outputs": [],
   "source": [
    "import pandas as pd\n",
    "import numpy as np\n",
    "from sklearn.feature_extraction.text import CountVectorizer\n",
    "from sklearn.model_selection import StratifiedKFold,RepeatedStratifiedKFold\n",
    "\n",
    "from sklearn.naive_bayes import MultinomialNB\n",
    "from sklearn.metrics import accuracy_score,f1_score\n",
    "\n",
    "import warnings\n",
    "warnings.filterwarnings(\"ignore\")\n",
    "# seeding\n",
    "np.random.seed(123)"
   ]
  },
  {
   "cell_type": "code",
   "execution_count": 2,
   "metadata": {
    "ExecuteTime": {
     "end_time": "2022-01-12T19:41:42.856604Z",
     "start_time": "2022-01-12T19:41:42.838103Z"
    }
   },
   "outputs": [],
   "source": [
    "# load data\n",
    "train = pd.read_csv('train_dataset.csv')\n",
    "test = pd.read_csv('test_dataset.csv')\n",
    "submission = pd.read_csv('sample_submission_dataset.csv')"
   ]
  },
  {
   "cell_type": "code",
   "execution_count": 3,
   "metadata": {
    "ExecuteTime": {
     "end_time": "2022-01-12T19:41:42.864569Z",
     "start_time": "2022-01-12T19:41:42.857858Z"
    }
   },
   "outputs": [
    {
     "data": {
      "text/html": [
       "<div>\n",
       "<style scoped>\n",
       "    .dataframe tbody tr th:only-of-type {\n",
       "        vertical-align: middle;\n",
       "    }\n",
       "\n",
       "    .dataframe tbody tr th {\n",
       "        vertical-align: top;\n",
       "    }\n",
       "\n",
       "    .dataframe thead th {\n",
       "        text-align: right;\n",
       "    }\n",
       "</style>\n",
       "<table border=\"1\" class=\"dataframe\">\n",
       "  <thead>\n",
       "    <tr style=\"text-align: right;\">\n",
       "      <th></th>\n",
       "      <th>headline</th>\n",
       "      <th>clickbait</th>\n",
       "      <th>ID</th>\n",
       "    </tr>\n",
       "  </thead>\n",
       "  <tbody>\n",
       "    <tr>\n",
       "      <th>0</th>\n",
       "      <td>Hussein enters \"not guilty\" plea at trial</td>\n",
       "      <td>0</td>\n",
       "      <td>84698cc7-8ae2-4ea3-a425-b7091561cee6</td>\n",
       "    </tr>\n",
       "    <tr>\n",
       "      <th>1</th>\n",
       "      <td>Iraq peace talks draw to a close in Finland</td>\n",
       "      <td>0</td>\n",
       "      <td>a4e35ca4-15fa-43e8-b68e-91457b23afee</td>\n",
       "    </tr>\n",
       "    <tr>\n",
       "      <th>2</th>\n",
       "      <td>British Premier Visits Northern Ireland</td>\n",
       "      <td>0</td>\n",
       "      <td>162991ee-ea2f-41ad-a753-649a68f54311</td>\n",
       "    </tr>\n",
       "    <tr>\n",
       "      <th>3</th>\n",
       "      <td>The Decline of Left-Handed First Basemen</td>\n",
       "      <td>0</td>\n",
       "      <td>2cd3aa32-6ec2-4af1-bd1d-560709066b8b</td>\n",
       "    </tr>\n",
       "    <tr>\n",
       "      <th>4</th>\n",
       "      <td>Who Said It: Donald Trump Or Kanye West</td>\n",
       "      <td>1</td>\n",
       "      <td>72553370-c348-4603-882b-39e04b610c39</td>\n",
       "    </tr>\n",
       "  </tbody>\n",
       "</table>\n",
       "</div>"
      ],
      "text/plain": [
       "                                      headline  clickbait  \\\n",
       "0    Hussein enters \"not guilty\" plea at trial          0   \n",
       "1  Iraq peace talks draw to a close in Finland          0   \n",
       "2      British Premier Visits Northern Ireland          0   \n",
       "3     The Decline of Left-Handed First Basemen          0   \n",
       "4      Who Said It: Donald Trump Or Kanye West          1   \n",
       "\n",
       "                                     ID  \n",
       "0  84698cc7-8ae2-4ea3-a425-b7091561cee6  \n",
       "1  a4e35ca4-15fa-43e8-b68e-91457b23afee  \n",
       "2  162991ee-ea2f-41ad-a753-649a68f54311  \n",
       "3  2cd3aa32-6ec2-4af1-bd1d-560709066b8b  \n",
       "4  72553370-c348-4603-882b-39e04b610c39  "
      ]
     },
     "execution_count": 3,
     "metadata": {},
     "output_type": "execute_result"
    }
   ],
   "source": [
    "# show top five rows of train data\n",
    "train.head() "
   ]
  },
  {
   "cell_type": "code",
   "execution_count": 4,
   "metadata": {
    "ExecuteTime": {
     "end_time": "2022-01-12T19:41:42.875847Z",
     "start_time": "2022-01-12T19:41:42.868335Z"
    }
   },
   "outputs": [
    {
     "data": {
      "text/html": [
       "<div>\n",
       "<style scoped>\n",
       "    .dataframe tbody tr th:only-of-type {\n",
       "        vertical-align: middle;\n",
       "    }\n",
       "\n",
       "    .dataframe tbody tr th {\n",
       "        vertical-align: top;\n",
       "    }\n",
       "\n",
       "    .dataframe thead th {\n",
       "        text-align: right;\n",
       "    }\n",
       "</style>\n",
       "<table border=\"1\" class=\"dataframe\">\n",
       "  <thead>\n",
       "    <tr style=\"text-align: right;\">\n",
       "      <th></th>\n",
       "      <th>ID</th>\n",
       "      <th>headline</th>\n",
       "    </tr>\n",
       "  </thead>\n",
       "  <tbody>\n",
       "    <tr>\n",
       "      <th>0</th>\n",
       "      <td>5f99b099-c4db-4a02-9753-28c5e94a6b34</td>\n",
       "      <td>Israeli military launches airstrikes into Gaza...</td>\n",
       "    </tr>\n",
       "    <tr>\n",
       "      <th>1</th>\n",
       "      <td>3c413552-32c0-4000-a745-b4217fe427ca</td>\n",
       "      <td>Expelled' fair use upheld</td>\n",
       "    </tr>\n",
       "    <tr>\n",
       "      <th>2</th>\n",
       "      <td>71060e3b-bab0-4218-b1ce-8284ae46f6c3</td>\n",
       "      <td>31 Times Frankie Boyle's Twitter Was Out Of Co...</td>\n",
       "    </tr>\n",
       "    <tr>\n",
       "      <th>3</th>\n",
       "      <td>f0a03121-600f-4b69-b6db-989d0f3cf28a</td>\n",
       "      <td>What Does Your Zodiac Sign Say About Your Love...</td>\n",
       "    </tr>\n",
       "    <tr>\n",
       "      <th>4</th>\n",
       "      <td>456f7cfa-bdfe-45bd-9e88-7c4ae53eb4ba</td>\n",
       "      <td>Larson B ice-shelf collapse reveals exotic org...</td>\n",
       "    </tr>\n",
       "  </tbody>\n",
       "</table>\n",
       "</div>"
      ],
      "text/plain": [
       "                                     ID  \\\n",
       "0  5f99b099-c4db-4a02-9753-28c5e94a6b34   \n",
       "1  3c413552-32c0-4000-a745-b4217fe427ca   \n",
       "2  71060e3b-bab0-4218-b1ce-8284ae46f6c3   \n",
       "3  f0a03121-600f-4b69-b6db-989d0f3cf28a   \n",
       "4  456f7cfa-bdfe-45bd-9e88-7c4ae53eb4ba   \n",
       "\n",
       "                                            headline  \n",
       "0  Israeli military launches airstrikes into Gaza...  \n",
       "1                          Expelled' fair use upheld  \n",
       "2  31 Times Frankie Boyle's Twitter Was Out Of Co...  \n",
       "3  What Does Your Zodiac Sign Say About Your Love...  \n",
       "4  Larson B ice-shelf collapse reveals exotic org...  "
      ]
     },
     "execution_count": 4,
     "metadata": {},
     "output_type": "execute_result"
    }
   ],
   "source": [
    "# show top five rows of test data\n",
    "test.head()"
   ]
  },
  {
   "cell_type": "code",
   "execution_count": 6,
   "metadata": {
    "ExecuteTime": {
     "end_time": "2022-01-12T19:41:42.885290Z",
     "start_time": "2022-01-12T19:41:42.877150Z"
    }
   },
   "outputs": [
    {
     "data": {
      "text/html": [
       "<div>\n",
       "<style scoped>\n",
       "    .dataframe tbody tr th:only-of-type {\n",
       "        vertical-align: middle;\n",
       "    }\n",
       "\n",
       "    .dataframe tbody tr th {\n",
       "        vertical-align: top;\n",
       "    }\n",
       "\n",
       "    .dataframe thead th {\n",
       "        text-align: right;\n",
       "    }\n",
       "</style>\n",
       "<table border=\"1\" class=\"dataframe\">\n",
       "  <thead>\n",
       "    <tr style=\"text-align: right;\">\n",
       "      <th></th>\n",
       "      <th>ID</th>\n",
       "      <th>clickbait</th>\n",
       "    </tr>\n",
       "  </thead>\n",
       "  <tbody>\n",
       "    <tr>\n",
       "      <th>0</th>\n",
       "      <td>84698cc7-8ae2-4ea3-a425-b7091561cee6</td>\n",
       "      <td>0</td>\n",
       "    </tr>\n",
       "    <tr>\n",
       "      <th>1</th>\n",
       "      <td>a4e35ca4-15fa-43e8-b68e-91457b23afee</td>\n",
       "      <td>1</td>\n",
       "    </tr>\n",
       "    <tr>\n",
       "      <th>2</th>\n",
       "      <td>162991ee-ea2f-41ad-a753-649a68f54311</td>\n",
       "      <td>0</td>\n",
       "    </tr>\n",
       "  </tbody>\n",
       "</table>\n",
       "</div>"
      ],
      "text/plain": [
       "                                     ID  clickbait\n",
       "0  84698cc7-8ae2-4ea3-a425-b7091561cee6          0\n",
       "1  a4e35ca4-15fa-43e8-b68e-91457b23afee          1\n",
       "2  162991ee-ea2f-41ad-a753-649a68f54311          0"
      ]
     },
     "execution_count": 6,
     "metadata": {},
     "output_type": "execute_result"
    }
   ],
   "source": [
    "# show top five rows of submision file\n",
    "submission.head()"
   ]
  },
  {
   "cell_type": "code",
   "execution_count": 7,
   "metadata": {
    "ExecuteTime": {
     "end_time": "2022-01-12T19:41:42.911869Z",
     "start_time": "2022-01-12T19:41:42.908067Z"
    }
   },
   "outputs": [
    {
     "data": {
      "text/plain": [
       "0    15210\n",
       "1    15190\n",
       "Name: clickbait, dtype: int64"
      ]
     },
     "execution_count": 7,
     "metadata": {},
     "output_type": "execute_result"
    }
   ],
   "source": [
    "# evalute Labels distribution\n",
    "train.clickbait.value_counts()"
   ]
  },
  {
   "cell_type": "code",
   "execution_count": 8,
   "metadata": {
    "ExecuteTime": {
     "end_time": "2022-01-12T19:41:42.963679Z",
     "start_time": "2022-01-12T19:41:42.961488Z"
    }
   },
   "outputs": [],
   "source": [
    "#split features and target from train data \n",
    "X = train[\"headline\"]\n",
    "y = train.clickbait.values"
   ]
  },
  {
   "cell_type": "code",
   "execution_count": 9,
   "metadata": {},
   "outputs": [],
   "source": [
    "#test\n",
    "final_test = test[\"headline\"]"
   ]
  },
  {
   "cell_type": "code",
   "execution_count": 10,
   "metadata": {},
   "outputs": [],
   "source": [
    "# Transform text data and the text is not cleaned\n",
    "vectorizer = CountVectorizer()\n",
    "X_vec = vectorizer.fit_transform(X)\n",
    "\n",
    "#transform test\n",
    "test_vec = vectorizer.transform(final_test)"
   ]
  },
  {
   "cell_type": "code",
   "execution_count": null,
   "metadata": {},
   "outputs": [],
   "source": []
  },
  {
   "cell_type": "code",
   "execution_count": 11,
   "metadata": {},
   "outputs": [
    {
     "name": "stdout",
     "output_type": "stream",
     "text": [
      "Accuracy: 0.98027\n",
      "Accuracy: 0.97819\n",
      "Accuracy: 0.97890\n",
      "Accuracy: 0.98121\n",
      "Accuracy: 0.98011\n"
     ]
    }
   ],
   "source": [
    "n_folds = 5\n",
    "random_state=42\n",
    "F1_Scores = []\n",
    "final_prediction=[]\n",
    "\n",
    "kf = StratifiedKFold(n_splits=n_folds, shuffle=True, random_state=random_state)\n",
    "for train_index, test_index in kf.split(X_vec, y):\n",
    "    X_train, X_test = X_vec[train_index], X_vec[test_index]\n",
    "    y_train, y_test = y[train_index], y[test_index]\n",
    "\n",
    "    # Train the model\n",
    "    clf = MultinomialNB(alpha = 0.1)\n",
    "    clf.fit(X_train, y_train)\n",
    "\n",
    "    # Make predictions and calculate f1_score\n",
    "    y_pred = clf.predict(X_test)\n",
    "    \n",
    "    #predict on test\n",
    "    test_preds=clf.predict(test_vec)\n",
    "    F1_score = f1_score(y_test, y_pred)\n",
    "    \n",
    "    final_prediction.append(test_preds)\n",
    "    F1_Scores.append(F1_score)\n",
    "\n",
    "    print(f\"Accuracy: {F1_score:.5f}\")"
   ]
  },
  {
   "cell_type": "code",
   "execution_count": 12,
   "metadata": {},
   "outputs": [
    {
     "name": "stdout",
     "output_type": "stream",
     "text": [
      "f1 score: 0.980\n"
     ]
    }
   ],
   "source": [
    "average_accuracy = sum(F1_Scores) / len(F1_Scores)\n",
    "print(f\"f1 score: {average_accuracy:.3f}\")"
   ]
  },
  {
   "cell_type": "code",
   "execution_count": 13,
   "metadata": {},
   "outputs": [],
   "source": [
    "#stack final prediction and get it's mean\n",
    "prediction=np.mean(np.column_stack(final_prediction),axis=1)"
   ]
  },
  {
   "cell_type": "code",
   "execution_count": 14,
   "metadata": {},
   "outputs": [
    {
     "data": {
      "text/plain": [
       "(15200,)"
      ]
     },
     "execution_count": 14,
     "metadata": {},
     "output_type": "execute_result"
    }
   ],
   "source": [
    "prediction.shape"
   ]
  },
  {
   "cell_type": "code",
   "execution_count": 15,
   "metadata": {},
   "outputs": [
    {
     "data": {
      "text/html": [
       "<div>\n",
       "<style scoped>\n",
       "    .dataframe tbody tr th:only-of-type {\n",
       "        vertical-align: middle;\n",
       "    }\n",
       "\n",
       "    .dataframe tbody tr th {\n",
       "        vertical-align: top;\n",
       "    }\n",
       "\n",
       "    .dataframe thead th {\n",
       "        text-align: right;\n",
       "    }\n",
       "</style>\n",
       "<table border=\"1\" class=\"dataframe\">\n",
       "  <thead>\n",
       "    <tr style=\"text-align: right;\">\n",
       "      <th></th>\n",
       "      <th>ID</th>\n",
       "      <th>clickbait</th>\n",
       "    </tr>\n",
       "  </thead>\n",
       "  <tbody>\n",
       "    <tr>\n",
       "      <th>0</th>\n",
       "      <td>84698cc7-8ae2-4ea3-a425-b7091561cee6</td>\n",
       "      <td>0</td>\n",
       "    </tr>\n",
       "    <tr>\n",
       "      <th>1</th>\n",
       "      <td>a4e35ca4-15fa-43e8-b68e-91457b23afee</td>\n",
       "      <td>1</td>\n",
       "    </tr>\n",
       "    <tr>\n",
       "      <th>2</th>\n",
       "      <td>162991ee-ea2f-41ad-a753-649a68f54311</td>\n",
       "      <td>0</td>\n",
       "    </tr>\n",
       "  </tbody>\n",
       "</table>\n",
       "</div>"
      ],
      "text/plain": [
       "                                     ID  clickbait\n",
       "0  84698cc7-8ae2-4ea3-a425-b7091561cee6          0\n",
       "1  a4e35ca4-15fa-43e8-b68e-91457b23afee          1\n",
       "2  162991ee-ea2f-41ad-a753-649a68f54311          0"
      ]
     },
     "execution_count": 15,
     "metadata": {},
     "output_type": "execute_result"
    }
   ],
   "source": [
    "submission.head()"
   ]
  },
  {
   "cell_type": "code",
   "execution_count": 16,
   "metadata": {},
   "outputs": [],
   "source": [
    "# create submission file\n",
    "sub = pd.DataFrame({\"ID\": test['ID'], \"clickbait\": prediction.astype('int16')})"
   ]
  },
  {
   "cell_type": "code",
   "execution_count": 17,
   "metadata": {
    "ExecuteTime": {
     "end_time": "2022-01-12T19:41:45.564225Z",
     "start_time": "2022-01-12T19:41:45.559638Z"
    }
   },
   "outputs": [
    {
     "data": {
      "text/html": [
       "<div>\n",
       "<style scoped>\n",
       "    .dataframe tbody tr th:only-of-type {\n",
       "        vertical-align: middle;\n",
       "    }\n",
       "\n",
       "    .dataframe tbody tr th {\n",
       "        vertical-align: top;\n",
       "    }\n",
       "\n",
       "    .dataframe thead th {\n",
       "        text-align: right;\n",
       "    }\n",
       "</style>\n",
       "<table border=\"1\" class=\"dataframe\">\n",
       "  <thead>\n",
       "    <tr style=\"text-align: right;\">\n",
       "      <th></th>\n",
       "      <th>ID</th>\n",
       "      <th>clickbait</th>\n",
       "    </tr>\n",
       "  </thead>\n",
       "  <tbody>\n",
       "    <tr>\n",
       "      <th>0</th>\n",
       "      <td>5f99b099-c4db-4a02-9753-28c5e94a6b34</td>\n",
       "      <td>0</td>\n",
       "    </tr>\n",
       "    <tr>\n",
       "      <th>1</th>\n",
       "      <td>3c413552-32c0-4000-a745-b4217fe427ca</td>\n",
       "      <td>0</td>\n",
       "    </tr>\n",
       "    <tr>\n",
       "      <th>2</th>\n",
       "      <td>71060e3b-bab0-4218-b1ce-8284ae46f6c3</td>\n",
       "      <td>1</td>\n",
       "    </tr>\n",
       "    <tr>\n",
       "      <th>3</th>\n",
       "      <td>f0a03121-600f-4b69-b6db-989d0f3cf28a</td>\n",
       "      <td>1</td>\n",
       "    </tr>\n",
       "    <tr>\n",
       "      <th>4</th>\n",
       "      <td>456f7cfa-bdfe-45bd-9e88-7c4ae53eb4ba</td>\n",
       "      <td>0</td>\n",
       "    </tr>\n",
       "  </tbody>\n",
       "</table>\n",
       "</div>"
      ],
      "text/plain": [
       "                                     ID  clickbait\n",
       "0  5f99b099-c4db-4a02-9753-28c5e94a6b34          0\n",
       "1  3c413552-32c0-4000-a745-b4217fe427ca          0\n",
       "2  71060e3b-bab0-4218-b1ce-8284ae46f6c3          1\n",
       "3  f0a03121-600f-4b69-b6db-989d0f3cf28a          1\n",
       "4  456f7cfa-bdfe-45bd-9e88-7c4ae53eb4ba          0"
      ]
     },
     "execution_count": 17,
     "metadata": {},
     "output_type": "execute_result"
    }
   ],
   "source": [
    "# show sample submissoin rows\n",
    "sub.head() "
   ]
  },
  {
   "cell_type": "code",
   "execution_count": 18,
   "metadata": {},
   "outputs": [
    {
     "data": {
      "text/plain": [
       "0    7688\n",
       "1    7512\n",
       "Name: clickbait, dtype: int64"
      ]
     },
     "execution_count": 18,
     "metadata": {},
     "output_type": "execute_result"
    }
   ],
   "source": [
    "sub.clickbait.value_counts()"
   ]
  },
  {
   "cell_type": "code",
   "execution_count": 20,
   "metadata": {
    "ExecuteTime": {
     "end_time": "2022-01-12T19:41:45.568870Z",
     "start_time": "2022-01-12T19:41:45.565121Z"
    }
   },
   "outputs": [],
   "source": [
    "# save submission file \n",
    "sub.to_csv(\"Baseline_submission.csv\",index=False) "
   ]
  },
  {
   "cell_type": "markdown",
   "metadata": {},
   "source": []
  },
  {
   "cell_type": "code",
   "execution_count": null,
   "metadata": {},
   "outputs": [],
   "source": []
  }
 ],
 "metadata": {
  "hide_input": false,
  "kernelspec": {
   "display_name": "Python 3 (ipykernel)",
   "language": "python",
   "name": "python3"
  },
  "language_info": {
   "codemirror_mode": {
    "name": "ipython",
    "version": 3
   },
   "file_extension": ".py",
   "mimetype": "text/x-python",
   "name": "python",
   "nbconvert_exporter": "python",
   "pygments_lexer": "ipython3",
   "version": "3.9.12"
  },
  "toc": {
   "base_numbering": 1,
   "nav_menu": {},
   "number_sections": true,
   "sideBar": true,
   "skip_h1_title": false,
   "title_cell": "Table of Contents",
   "title_sidebar": "Contents",
   "toc_cell": false,
   "toc_position": {},
   "toc_section_display": true,
   "toc_window_display": false
  }
 },
 "nbformat": 4,
 "nbformat_minor": 2
}
